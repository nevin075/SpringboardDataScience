{
 "cells": [
  {
   "cell_type": "code",
   "execution_count": null,
   "id": "8aea586a",
   "metadata": {},
   "outputs": [],
   "source": [
    "# Notes on logical control flow in python\n",
    "\n",
    "in python you have arithmatic operators (+, -, /, *, //, %)\n",
    "comparison operators (>, <, >=, <=, ==, !=)\n",
    "logical operators (and, or, not)\n"
   ]
  },
  {
   "cell_type": "code",
   "execution_count": 2,
   "id": "e1f2831a",
   "metadata": {},
   "outputs": [
    {
     "name": "stdout",
     "output_type": "stream",
     "text": [
      "apple\n",
      "banana\n",
      "cherry\n",
      "1\n",
      "2\n",
      "3\n",
      "4\n",
      "5\n"
     ]
    }
   ],
   "source": [
    "# loops in python\n",
    "# For loop, In Python, a for loop is used to iterate over a sequence (such as a list, tuple, string, or range) or other iterable objects.\n",
    "\n",
    "fruits = [\"apple\", \"banana\", \"cherry\"]\n",
    "for fruit in fruits:\n",
    "    print(fruit)\n",
    "    \n",
    "# While loop, In Python, a while loop is used to repeatedly execute a block of code as long as a certain condition is true.\n",
    "\n",
    "count = 1\n",
    "while count <= 5:\n",
    "    print(count)\n",
    "    count += 1"
   ]
  },
  {
   "cell_type": "code",
   "execution_count": null,
   "id": "48e0afde",
   "metadata": {},
   "outputs": [],
   "source": []
  }
 ],
 "metadata": {
  "kernelspec": {
   "display_name": "Python 3 (ipykernel)",
   "language": "python",
   "name": "python3"
  },
  "language_info": {
   "codemirror_mode": {
    "name": "ipython",
    "version": 3
   },
   "file_extension": ".py",
   "mimetype": "text/x-python",
   "name": "python",
   "nbconvert_exporter": "python",
   "pygments_lexer": "ipython3",
   "version": "3.9.13"
  }
 },
 "nbformat": 4,
 "nbformat_minor": 5
}
